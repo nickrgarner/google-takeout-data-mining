{
 "cells": [
  {
   "cell_type": "code",
   "execution_count": null,
   "metadata": {},
   "outputs": [],
   "source": [
    "import pickle\n",
    "import numpy as np\n",
    "import pandas as pd\n",
    "import os\n",
    "from ivis import Ivis\n",
    "from scipy.spatial import distance_matrix\n",
    "import sys\n",
    "\n",
    "sys.path.append('../')"
   ]
  },
  {
   "cell_type": "code",
   "execution_count": 2,
   "metadata": {},
   "outputs": [],
   "source": [
    "from userdata_mining.embedding import Embedding"
   ]
  },
  {
   "cell_type": "code",
   "execution_count": null,
   "metadata": {},
   "outputs": [],
   "source": [
    "def popt20(y_true, y_pred):\n",
    "    \"\"\"\n",
    "    Returns the popt20 metric. Lower is better.\n",
    "    \n",
    "    :param y_true: The true labels.\n",
    "    :param y_pred: The prediction probabilities.\n",
    "    \"\"\"\n",
    "    total = len(y_true)\n",
    "    sort_idx = reversed(np.argsort(y_pred))\n",
    "    count = 0\n",
    "    used = 0\n",
    "    \n",
    "    for idx in sort_idx:\n",
    "        used += 1\n",
    "        if y_true[idx]:\n",
    "            count += 1\n",
    "        \n",
    "        if count >= 0.2 * total:\n",
    "            break\n",
    "    \n",
    "    return used / total"
   ]
  },
  {
   "cell_type": "markdown",
   "metadata": {},
   "source": [
    "## In n-d space"
   ]
  },
  {
   "cell_type": "code",
   "execution_count": 2,
   "metadata": {},
   "outputs": [],
   "source": [
    "with open('../saved/embeddings/rahul.pickle', 'rb') as f:\n",
    "    data = pickle.load(f)"
   ]
  },
  {
   "cell_type": "code",
   "execution_count": 3,
   "metadata": {},
   "outputs": [
    {
     "data": {
      "text/plain": [
       "dict_keys(['Autofill', 'Browser History', 'Hangouts', 'Travel', 'Nearby Places', 'Email', 'YouTube comments', 'YouTube subscriptions', 'YouTube liked videos', 'YouTube watch history'])"
      ]
     },
     "execution_count": 3,
     "metadata": {},
     "output_type": "execute_result"
    }
   ],
   "source": [
    "data.keys()"
   ]
  },
  {
   "cell_type": "code",
   "execution_count": 4,
   "metadata": {},
   "outputs": [],
   "source": [
    "hangouts = data['Hangouts']\n",
    "yt_history = data['YouTube watch history']\n",
    "email = data['Email']\n",
    "yt_liked = data['YouTube liked videos']"
   ]
  },
  {
   "cell_type": "code",
   "execution_count": 26,
   "metadata": {},
   "outputs": [],
   "source": [
    "products_df = pd.read_csv('../data/rahul/labels.csv', \n",
    "                          usecols=range(2), \n",
    "                          header=0, \n",
    "                          lineterminator='\\n')\n",
    "products = products_df['product']"
   ]
  },
  {
   "cell_type": "code",
   "execution_count": 29,
   "metadata": {},
   "outputs": [],
   "source": [
    "products = []\n",
    "for file in os.listdir('../products/'):\n",
    "    with open(f'../products/{file}', 'r') as f:\n",
    "        lines = f.readlines()[1:]\n",
    "    lines = [x.replace(',', ' ') for x in lines]\n",
    "    \n",
    "    products.extend(lines)"
   ]
  },
  {
   "cell_type": "code",
   "execution_count": 30,
   "metadata": {},
   "outputs": [
    {
     "data": {
      "text/plain": [
       "['Fire TV Stick 4K streaming device with Alexa Voice Remote | Dolby Vision | 2018 release Watch favorites from Netflix  YouTube  Prime Video  Disney+  Apple TV+  HBO Max  and more. Stream for free with Pluto TV  IMDb TV  and more.\\n',\n",
       " 'Echo Dot (3rd Gen) - Smart speaker with Alexa - Charcoal Meet Echo Dot - Our most popular smart speaker with a fabric design. It is our most compact smart speaker that fits perfectly into small spaces.\\n',\n",
       " 'Roku Express | HD Streaming Media Player with High Speed HDMI Cable and Simple Remote Streaming made easy: Roku express lets you stream free  live and premium TV over the internet right to your TV; it’s perfect for new users  secondary TVs and easy gifting but powerful enough for seasoned pros\\n',\n",
       " 'Amazon Smart Plug  works with Alexa – A Certified for Humans Device Amazon Smart Plug works with Alexa to add voice control to any outlet.\\n',\n",
       " 'All-new Echo Buds (2nd Gen) | Wireless earbuds with active noise cancellation and Alexa | Black Dynamic audio and active noise cancellation (ANC) - Premium speakers deliver crisp  balanced sound. Sealed in-ear design and ANC limit background noise.\\n',\n",
       " 'Wyze Cam v3 1080p HD Indoor/Outdoor Video Camera with Color Night Vision  2-Way Audio  Works with Alexa & The Google Assistant  and IFTTT Color Night Vision: Record night time video in full  vivid color in environments up to 25x darker than traditional cameras.\\n',\n",
       " 'All-new Echo Dot (4th Gen  2020 release) | Smart speaker with Alexa | Charcoal\" \"Meet the all-new Echo Dot - Our most popular smart speaker with Alexa. The sleek  compact design delivers crisp vocals and balanced bass for full sound.\\n',\n",
       " 'Roku Streaming Stick+ | HD/4K/HDR Streaming Device with Long-range Wireless and Voice Remote with TV Controls Wireless that goes the distance: Basement rec room? Backyard movie night? Bring them on. The long-range wireless receiver gives you extended range and a stronger signal for smooth streaming even in rooms farther from your router\\n',\n",
       " 'Blink Mini – Compact indoor plug-in smart security camera  1080 HD video  night vision  motion detection  two-way audio  Works with Alexa – 1 camera 1080P HD indoor  plug-in security camera with motion detection and two way audio that lets you monitor the inside of your home day and night.\\n',\n",
       " 'Fujifilm Instax Mini Instant Film Twin Pack (White) Designed for use with Instax Mini line of cameras; Works well in low light.Develops instantly: Press the shutter  capture the moment  and watch the photo slide out and the image develop in front of your eyes; Hi speed  ISO 800 with superb grain quality  Instax Mini Film ensure vibrant color and natural skin tones\\n',\n",
       " 'My Savior Carrie Underwood\\n',\n",
       " \"Fearless (Taylor's Version) [2 CD] Taylor Swift\\n\",\n",
       " 'Beautiful Scars Merry Clayton\\n',\n",
       " \"They're Calling Me Home Rhiannon Giddens\\n\",\n",
       " 'In Another World Cheap Trick\\n',\n",
       " 'WE ARE Jon Batiste\\n',\n",
       " 'evermore [Green 2 LP]  Taylor Swift Explicit Lyrics Double vinyl\\n',\n",
       " 'Legend [Vinyl] Bob Marley LP\\n',\n",
       " 'Dangerous: The Double Album [2 CD] Morgan Wallen Explicit Lyrics 2 CD\\n',\n",
       " 'Where Have You Gone Alan Jackson',\n",
       " 'On the House: A Washington Memoir by John Boehner  \"Language: English\\n',\n",
       " 'Item Weight : 1.1 pounds\\n',\n",
       " 'Dimensions : 6.39 x 1.02 x 9.6 inches\"\\n',\n",
       " 'Fast Burn!: The Power of Negative Energy Balance by lan K.Smith M.D \"Language: English\\n',\n",
       " 'Item Weight : 1.2 pounds\\n',\n",
       " 'Dimensions : 6.38 x 1.25 x 9.59 inches\"\\n',\n",
       " 'The Pepper Thai Cookbook: Family Recipes from Everyone\\'s Favorite Thai Mom by Pepper Teigen \"Language: English\\n',\n",
       " 'Item Weight : 2.03 pounds\\n',\n",
       " 'Dimensions : 7.75 x 0.88 x 10 inches\"\\n',\n",
       " 'he Hero Code: Lessons Learned from Lives Well Lived by Admiral William H. McRaven \"Language: English\\n',\n",
       " 'Bedsure Satin Pillowcase for Hair and Skin \"2-Pack - Standard Size (20x26 inches) Pillow Cases - Satin Pillow Covers with Envelope Closure  Dark Grey\"\\n',\n",
       " 'Mellanni Bed Sheet Set \"Brushed Microfiber 1800 Bedding - Wrinkle  Fade  Stain Resistant - 3 Piece (for Extra Deep Mattresses  Twin  Baby Blue)\"\\n',\n",
       " 'SafeRest Twin Size Premium Hypoallergenic Waterproof Mattress Protector \"Premium Cotton Terry. Protects Agains Fluids  Urine  Perspiration and Allergens (10-Year Warranty) Hypoallergenic Cotton Terry Surface With Membrane Back Coating (Waterproof  Noiseless and Breathable)\"\\n',\n",
       " '\"Amazon Basics Microfiber Sheet Set  Twin  Beige\" \"100% Polyester Microfiber. Imported. Twin sheet set includes (1) 66 x 96 inch flat sheet  (1) 38 x 74 x 14 inch fitted sheet  and (1) 20 x 30 inch pillowcase. All-around elastic on 14\"\" fitted sheet allows for snug  secure fit of most mattress sizes up to a 16\"\" mattress depth\"\\n',\n",
       " 'Beckham Hotel Collection Bed Pillows for Sleeping  \"Queen Size  Set of 2 - Soft Allergy Friendly  Cooling  Luxury Gel Pillow for Back  Stomach or Side Sleepers\"\\n',\n",
       " 'LiBa PEVA 8G Bathroom Small Shower Stall Curtain Liner \"36\"\" W x 72\"\" H Narrow Size  Clear  8G Heavy Duty Waterproof Shower Stall Curtain Liner\"\\n',\n",
       " '\"Utopia Bedding Throw Pillows Insert (Pack of 2  White)\" 12 x 12 Inches Bed and Couch Pillows - Indoor Decorative Pillows\\n',\n",
       " 'Twin Sheet Set - 3 Piece College Dorm Room Bed Sheets - Hotel Luxury Bed Sheets - Extra Soft Sheets - Deep Pockets - Easy Fit - Breathable & Cooling Sheets – Bed Sheets - Twin - Twin Mattress Sheets\\n',\n",
       " 'Flexzilla HFZG510YW Garden Lead-In Hose \"EXTREMELY FLEXIBLE – Extreme all-weather flexibility makes it easy to maneuver around trees  bushes or other obstacles  EXTRMELY DURABLE – Durable and abrasion-resistant outer cover and crush resistant anodized aircraft aluminum fittings  WON’T KINK UNDER PRESSURE – Flexible hybrid polymer material allows the hose to lay flat with no memory  LIGHTWEIGHT – Lighter than traditional garden hoses making Flexzilla easier to carry  life and maneuver around the yard\"\\n',\n",
       " '\"GreaterGoods Digital Food Kitchen Scale  Multifunction Scale Measures in Grams and Ounces (Ash Grey)\" \"A Premium Choice: Between the design and quality  this kitchen scale is going to last and function at an impeccable level. Your cooking just got ten times easier!  Fresh Features: All of the qualities you need and expect in a kitchen scale: readings down to the gram  an eleven pound capacity  and easy to read display. What more could you want?\"',\n",
       " 'Amazon Basics Multipurpose Copy Printer Paper - White  8.5 x 11 Inches  1 Ream (500 Sheets)  1 ream of 8.5 x -11 inch multipurpose copy paper (500 sheets total) Works with laser/inkjet printers  copiers and fax machines High-quality 20-pound weight for economical printing and resistance to paper jams Bright white for better contrast; 92 GE brightness (104 Euro) Acid-free paper\\n',\n",
       " 'Scotch Heavy Duty Shipping Packaging Tape  6 Rolls with Dispenser \\n',\n",
       " 'HP 63 | Ink Cartridge | Black | F6U62AN   6 Rolls with Dispenser Make sure this fits by entering your model number.  HP ENVY 4511  4512  4513  4520  4522  4523  4524. HP Officejet 3830  3831  3833  4650  4652  4654  4655  5220  5222  5230  5232  5255  5260  5264. HP 63 ink cartridges work with: HP Deskjet 1112  2130  2132  3630  3631  3632  3633  3634  3636  3637  Up to 2x more prints with Original HP ink vs refill cartridges.  Cartridge yield (approx.): 190 pages  Original HP ink cartridges: genuine ink for your HP printer.\\n',\n",
       " 'Hammermill Printer Paper  20 lb Copy Paper  11 x 17 - 1 Ream (500 Sheets) - 92 Bright  Made in the USA  HAMMERMILL’S BEST SELLING PRINTER PAPER – You will receive one ream of paper with 500 sheets of 20lb  92 bright  11\" x 17\" white copy paper. Ledger Size  99.99% JAM-FREE PRINTER PAPER - Everyone hates paper jams...You can trust Hammermill paper quality to keep your printer running smoothly. Scroll down to view the Product Description for details  COLORLOK TECHNOLOGY INCLUDED - Colors on Hammermill copy paper are 30% brighter; blacks are up to 60% bolder and inks dry 3 times faster for less smearing. Acid-free Hammermill paper ensures long-lasting archival quality  MADE IN USA - Hammermill copying and printing papers are 100% made in the USA  helping to support 2. 4 million sustainable forestry jobs in America  including family tree farmers. Hammermill is more than just paper  MAKE SURE IT’S ORIGINAL HAMMERMILL QUALITY - Look for “Ships from and sold by ” at the top of the page  under the product title  OTHER PAPER OPTIONS – Scroll down to compare Hammermill print and copy paper for every purpose including premium presentation-quality color copy paper  cover-weight paper stock  and glossy paper for photo printing\\n',\n",
       " 'Amazon Basics Narrow Ruled 5 x 8-Inch Writing Pad - Canary (50 Sheet Paper Pads  12 pack)  12-pack of 50-page white writing tablets  Narrow ruled paper (1/4-inch spacing between lines) for people with smaller handwriting or when you want more on a single page  16-pound paper for everyday use  Perforated top ensures easy removal of sheets  Measures 5 by 8 inches\\n',\n",
       " \"HP 65 | Ink Cartridge | Works with HP Deskjet 2600 Series  3700 Series  HP ENVY 5000 Series  HP AMP 100  120  125  130 | Black | N9K02AN  Make sure this fits by entering your model number.  HP 65 ink cartridges work with: HP DeskJet 2622  2625  2635  2636  2652  2655  3720  3722  3752  3755  3758  5025  5055.  HP ENVY 5010  5012  5020  5052  5030  5032  5034  5055. HP AMP 100  105  120  125  130.  Up to 2x more prints with Original HP ink vs refill cartridges.  HP 65 ink cartridge yield (approx.): 120 pages  Original HP ink cartridges: Genuine ink for your HP printer.  What's in the box: 1 New Original HP 65 ink cartridge (N9K02AN)  Color: Black  Choose an ink replenishment service - Let your printer track usage and have ink delivered before you run out. Either reorder HP Genuine ink cartridges only when you need them through Amazon Dash Replenishment  or save up to 50% by paying for pages printed through HP Instant Ink.\\n\",\n",
       " 'Amazon Basics 6-Sheet Cross-Cut Paper and Credit Card Home Office Shredder  6 sheet crosscut paper/credit card shredder  Auto Start and overheat protection  Thermal Protection to prevent overheating  manual reverse to clear paper jams  shreds credit cards; small paper clips; staples  Important Note: Do not spray or keep any aerosol products in or around the shredder and do not shred items like metallic credit cards\\n',\n",
       " \"HP 63 | Ink Cartridge | Works with HP Deskjet 1112  2100 Series  3600 Series  HP ENVY 4500 Series  HP OfficeJet 3800 Series  4600 Series  5200 Series | Tri-color | F6U61AN  Make sure this fits by entering your model number.  HP 63 ink cartridges work with: HP Deskjet 1112  2130  2132  3630  3632  3633  3634  3636  3637.  HP ENVY 4512  4513  4520  4523  4524. HP Officejet 3830  3831  3833  4650  4652  4654  4655.  Up to 2x more prints with Original HP ink vs refill cartridges.  Cartridge yield (approx.): 165 pages  Original HP ink cartridges: Genuine ink for your HP printer.  What's in the box: 1 New Original HP 63 ink cartridge (F6U61AN)  Color: Tri-color  Choose an ink replenishment service - Let your printer track usage and have ink delivered before you run out. Either reorder HP Genuine ink cartridges only when you need them through Amazon Dash Replenishment  or save up to 50% by paying for pages printed through HP Instant Ink. Packaging of the product may slightly vary.\\n\",\n",
       " '2 Pack - Clear Vaccination Card Protector 4×3 in for CDC Immunization Badge  Waterproof 4x3 Horizontal Badge I’D Name Tag Vinyl Plastic Sleeve Pouch w 3 Lanyard Slots for Events & Travel  SLIGHTLY LARGER TO FIT LAMINATED 4”X 3” Cards - (4 ¼ X 3.07 Max Insert) *** PLEASE NOTE *** VACCINATION CARD SIZES CAN VARY - PLEASE CHECK MEASUREMENTS BEFORE PURCHASING. Thick  Sturdy Plastic Sleeve with Curved Edges Featuring Lightly Textured Back and Clear Front Window to Keep Your Health Document or Valuable Collector Card Damage Free - Outer Dimensions (4.56 x 3.97 inch) Inner Dimensions (4.33 x 3.14 inch).  DISPLAY VACCINATION CARD AT AIRLINES FOR QUICK ENTRY - Accessible for Barcodes & QR Codes to be Read with Scanner Reader Through Visible Clear Protector Window - Great for Teachers  Students  Nurses  Office Employees  Doctors  Government Official  Police  Volunteer and More.  ATTACHES TO ANY LANYARD OR BADGE REEL - Dual-use Hanging Slot/holes Design  The Middle Slot For Lanyard  Keychain Or Retractable Carabiner Reel Clip  The Both Side Holes For The Cord/strap/string/thread. Strong And Flexible Plastic Material. The Badge Holders Will Not Leave Trace  Folded And Refolded Many Time. The Hanging Slot/holes Will Not Break  Distorted Many Time.  WATERPROOF HEAVY DUTY REUSABLE BADGE HOLDERS - Multi Purpose Use and Reuse for a Health Record Keeper or for Special or Promotional Events  Conventions  Concerts  Festivals  Retreats  Family & School Reunions  Store Tags  Fundraisers  Field Trips  PTA  Transit Bus  VIP Pass and More.\\n',\n",
       " 'ComfiLife Gel Enhanced Seat Cushion - Non-Slip Orthopedic Gel & Memory Foam Coccyx Cushion for Tailbone Pain - Office Chair Car Seat Cushion - Sciatica & Back Pain Relief (Black)  Best Gel Memory Foam Cushion On The Market - ComfiLife\\'s all-in-one features are unrivaled: Non-slip rubber bottom  built-in handle for easy transport and machine-washable zippered velour cover for easy cleaning. The ComfiLife Coccyx Cushion is the best gel memory foam seat cushion on the market made of premium quality durable memory foam with cool off gel layer on top for superior comfort  Supports Tailbone and Relieves Pressure - Ergonomically designed seat cushion provides maximum support and comfort while reducing pressure on the coccyx / tailbone and promotes healthy posture  Provides Lower Back Pain & Sciatica Relief  Great for Office Use  Driving & Traveling - Supports recovery from lower back problems  herniated discs  tailbone injuries  sciatica and other spinal issues. Great for office  home  travel  car seat or wheelchair use. Machine-washable zippered velour cover for easy cleaning and built-in handle for easy transport  Our Customers Love ComfiLife Cushion - \"I have already recommended this to all my office mates that sit all day  as well. I love it  and some advice...Lock it up after you use it  or I guarantee one of your sneaky cube mates will swipe it!\" \"This has saved my life as one with lower back pain due to pinched nerve roots\" \"I have herniated discs and sciatica for many years  this cushion allowed me to drive cross state with little to no pain\"  Lifetime Warranty - ComfiLife is trusted by millions of happy customers around the world. Your complete satisfaction is our top priority. If you’re not 100% satisfied  we offer a Lifetime Money Back or Replacement Guarantee with no questions asked. \\n']"
      ]
     },
     "execution_count": 30,
     "metadata": {},
     "output_type": "execute_result"
    }
   ],
   "source": [
    "products"
   ]
  },
  {
   "cell_type": "code",
   "execution_count": 32,
   "metadata": {},
   "outputs": [],
   "source": [
    "product_embeddings = []\n",
    "model = Embedding(model='bert-base-uncased')\n",
    "\n",
    "for product in products:\n",
    "    product_embeddings.append(model.embed(product))"
   ]
  },
  {
   "cell_type": "code",
   "execution_count": 33,
   "metadata": {},
   "outputs": [
    {
     "data": {
      "text/plain": [
       "(50, 768)"
      ]
     },
     "execution_count": 33,
     "metadata": {},
     "output_type": "execute_result"
    }
   ],
   "source": [
    "product_embeddings = np.array(product_embeddings)\n",
    "product_embeddings.shape"
   ]
  },
  {
   "cell_type": "code",
   "execution_count": 34,
   "metadata": {},
   "outputs": [],
   "source": [
    "distances = distance_matrix(hangouts, product_embeddings, p=1)"
   ]
  },
  {
   "cell_type": "code",
   "execution_count": 35,
   "metadata": {},
   "outputs": [
    {
     "data": {
      "text/plain": [
       "(24105, 50)"
      ]
     },
     "execution_count": 35,
     "metadata": {},
     "output_type": "execute_result"
    }
   ],
   "source": [
    "distances.shape"
   ]
  },
  {
   "cell_type": "code",
   "execution_count": 40,
   "metadata": {},
   "outputs": [
    {
     "data": {
      "text/plain": [
       "(array([ 7388,  5051, 15046,  7019, 14513, 19974, 20611, 21418, 18864,\n",
       "        10621]),\n",
       " array([12, 12, 12, 12, 12, 12, 12, 12, 12, 12]))"
      ]
     },
     "execution_count": 40,
     "metadata": {},
     "output_type": "execute_result"
    }
   ],
   "source": [
    "np.unravel_index(np.argsort(distances, axis=None)[:10], distances.shape)"
   ]
  },
  {
   "cell_type": "code",
   "execution_count": 37,
   "metadata": {},
   "outputs": [
    {
     "data": {
      "text/plain": [
       "'Beautiful Scars Merry Clayton\\n'"
      ]
     },
     "execution_count": 37,
     "metadata": {},
     "output_type": "execute_result"
    }
   ],
   "source": [
    "products[12]"
   ]
  },
  {
   "cell_type": "code",
   "execution_count": 41,
   "metadata": {},
   "outputs": [
    {
     "data": {
      "text/plain": [
       "(array([21513, 15122, 21514, 14286, 13040,  5010, 15990, 23532, 25783,\n",
       "        19833]),\n",
       " array([12, 12, 12, 12, 12, 12, 12, 12, 12, 12]))"
      ]
     },
     "execution_count": 41,
     "metadata": {},
     "output_type": "execute_result"
    }
   ],
   "source": [
    "distances = distance_matrix(email, product_embeddings, p=1)\n",
    "np.unravel_index(np.argsort(distances, axis=None)[:10], distances.shape)"
   ]
  },
  {
   "cell_type": "code",
   "execution_count": 45,
   "metadata": {},
   "outputs": [
    {
     "data": {
      "text/plain": [
       "(array([4072,  263, 2671, 2171, 3799, 5643, 3920, 3924, 1720, 5352, 4020,\n",
       "        4196, 5464, 4406, 4590, 4640, 4228, 4271, 4123,  867, 1592, 1069,\n",
       "        3729, 5332, 1215,  959,  961,  863,  955,  963,  981,  997, 1021,\n",
       "        1297,  182, 1081, 1131, 5623, 5661, 5679, 5694, 5696, 2349, 2372,\n",
       "          14, 1971, 4573, 4682, 4277, 3212, 4782, 2599,  362, 1876, 4302,\n",
       "        4752, 3821, 4080, 3606, 4429, 4751, 4171, 4431, 3596, 4585, 4167,\n",
       "        4739, 4613, 4531, 4759, 4611, 4529, 4441, 4793, 3294, 4615, 4761,\n",
       "        4523, 3614, 3602, 3553, 4778, 3983, 4550, 3229, 5204,  483,  368,\n",
       "        4743, 4934,  174, 3810, 5649, 3099,  874, 5375, 1024, 3782, 3646,\n",
       "        2367]),\n",
       " array([12, 12, 12, 12, 12, 12, 12, 12, 12, 12, 12, 12, 12, 12, 12, 12, 12,\n",
       "        12, 12, 12, 12, 12, 12, 12, 12, 12, 12, 12, 12, 12, 12, 12, 12, 12,\n",
       "        12, 12, 12, 12, 12, 12, 12, 12, 12, 12, 12, 12, 12, 12, 12, 12, 12,\n",
       "        12, 12, 12, 12, 12, 12, 12, 12, 12, 12, 12, 12, 12, 12, 12, 12, 12,\n",
       "        12, 12, 12, 12, 12, 12, 12, 12, 12, 12, 12, 12, 12, 12, 12, 12, 12,\n",
       "        12, 12, 12, 12, 12, 12, 12, 12, 12, 12, 12, 12, 12, 12, 12]))"
      ]
     },
     "execution_count": 45,
     "metadata": {},
     "output_type": "execute_result"
    }
   ],
   "source": [
    "distances = distance_matrix(yt_history, product_embeddings, p=1)\n",
    "np.unravel_index(np.argsort(distances, axis=None)[:100], distances.shape)"
   ]
  },
  {
   "cell_type": "code",
   "execution_count": 46,
   "metadata": {},
   "outputs": [
    {
     "data": {
      "text/plain": [
       "(array([101, 150, 268, 266, 334, 356, 277,  97,  34, 291, 228, 371, 139,\n",
       "        169, 118, 193, 322, 327, 399,  37, 383, 198, 304, 157, 227,  56,\n",
       "        280, 419, 158, 380, 237, 276, 375, 200, 230, 336, 185, 366, 295,\n",
       "         96, 234, 111, 354, 404,  41, 178, 190, 100,  48, 119, 117, 216,\n",
       "        382, 352, 391,  43,  66, 256, 290, 182, 197, 222, 137, 349, 195,\n",
       "        239, 350, 251, 326, 365, 134,  81, 106, 292, 305, 342, 402,  42,\n",
       "        283, 324, 325,  26, 373, 400, 186, 309, 348, 297, 170, 102, 196,\n",
       "         36,  88,  35,  84, 116, 110, 120, 335, 113]),\n",
       " array([12, 12, 12, 12, 12, 12, 12, 12, 12, 12, 12, 12, 12, 12, 12, 12, 12,\n",
       "        12, 12, 12, 12, 12, 12, 12, 12, 12, 12, 12, 12, 12, 12, 12, 12, 12,\n",
       "        12, 12, 12, 12, 12, 12, 12, 12, 12, 12, 12, 12, 12, 12, 12, 12, 12,\n",
       "        12, 12, 12, 12, 12, 12, 12, 12, 12, 12, 12, 12, 12, 12, 12, 12, 12,\n",
       "        12, 12, 12, 12, 12, 12, 12, 12, 12, 12, 12, 12, 12, 12, 12, 12, 12,\n",
       "        12, 12, 12, 12, 12, 12, 18, 12, 12, 12, 12, 12, 12, 12, 12]))"
      ]
     },
     "execution_count": 46,
     "metadata": {},
     "output_type": "execute_result"
    }
   ],
   "source": [
    "distances = distance_matrix(yt_liked, product_embeddings, p=1)\n",
    "np.unravel_index(np.argsort(distances, axis=None)[:100], distances.shape)"
   ]
  },
  {
   "cell_type": "markdown",
   "metadata": {},
   "source": [
    "## In 2-d space"
   ]
  },
  {
   "cell_type": "code",
   "execution_count": 47,
   "metadata": {},
   "outputs": [],
   "source": [
    "with open('2.pickle', 'rb') as f:\n",
    "    hangouts = pickle.load(f)\n",
    "with open('4.pickle', 'rb') as f:\n",
    "    email = pickle.load(f)\n",
    "with open('7.pickle', 'rb') as f:\n",
    "    yt_liked = pickle.load(f)\n",
    "with open('8.pickle', 'rb') as f:\n",
    "    yt_history = pickle.load(f)"
   ]
  },
  {
   "cell_type": "code",
   "execution_count": 56,
   "metadata": {},
   "outputs": [],
   "source": [
    "def _reduce_dims(arg):\n",
    "    \"\"\"\n",
    "    Uses ivis to reduce dimensionality to 2.\n",
    "\n",
    "    :param {Iterable} arg - an array-like object\n",
    "    :return {np.ndarray} embedded object\n",
    "    \"\"\"\n",
    "    m = arg.shape[0]\n",
    "    if m > 200:\n",
    "        k = int(0.01 * m)\n",
    "    elif m > 50:\n",
    "        k = int(0.1 * m)\n",
    "    elif m > 10:\n",
    "        k = int(0.2 * m)\n",
    "    else:\n",
    "        k = max(int(0.4 * m), m-3)\n",
    "\n",
    "    ivis = Ivis(embedding_dims=2, k=k, batch_size=2)\n",
    "    return ivis.fit_transform(arg)"
   ]
  },
  {
   "cell_type": "code",
   "execution_count": 61,
   "metadata": {},
   "outputs": [
    {
     "name": "stderr",
     "output_type": "stream",
     "text": [
      "100%|██████████| 50/50 [00:00<00:00, 3584.20it/s]"
     ]
    },
    {
     "name": "stdout",
     "output_type": "stream",
     "text": [
      "Building KNN index\n",
      "Extracting KNN neighbours\n"
     ]
    },
    {
     "name": "stderr",
     "output_type": "stream",
     "text": [
      "\n",
      "100%|██████████| 50/50 [00:17<00:00,  2.90it/s] \n"
     ]
    },
    {
     "name": "stdout",
     "output_type": "stream",
     "text": [
      "Training neural network\n",
      "Epoch 1/1000\n",
      "25/25 [==============================] - 1s 2ms/step - loss: 0.8264\n",
      "Epoch 2/1000\n",
      "25/25 [==============================] - 0s 2ms/step - loss: 0.5373\n",
      "Epoch 3/1000\n",
      "25/25 [==============================] - 0s 2ms/step - loss: 0.5068\n",
      "Epoch 4/1000\n",
      "25/25 [==============================] - 0s 2ms/step - loss: 0.7138\n",
      "Epoch 5/1000\n",
      "25/25 [==============================] - 0s 2ms/step - loss: 0.2558\n",
      "Epoch 6/1000\n",
      "25/25 [==============================] - 0s 2ms/step - loss: 0.6971\n",
      "Epoch 7/1000\n",
      "25/25 [==============================] - 0s 2ms/step - loss: 0.3245\n",
      "Epoch 8/1000\n",
      "25/25 [==============================] - ETA: 0s - loss: 0.0000e+0 - 0s 2ms/step - loss: 0.3966\n",
      "Epoch 9/1000\n",
      "25/25 [==============================] - 0s 2ms/step - loss: 0.3940\n",
      "Epoch 10/1000\n",
      "25/25 [==============================] - 0s 1ms/step - loss: 0.5041\n",
      "Epoch 11/1000\n",
      "25/25 [==============================] - 0s 2ms/step - loss: 0.7393\n",
      "Epoch 12/1000\n",
      "25/25 [==============================] - 0s 2ms/step - loss: 0.2238\n",
      "Epoch 13/1000\n",
      "25/25 [==============================] - 0s 2ms/step - loss: 0.3330\n",
      "Epoch 14/1000\n",
      "25/25 [==============================] - 0s 1ms/step - loss: 0.1552\n",
      "Epoch 15/1000\n",
      "25/25 [==============================] - 0s 2ms/step - loss: 0.6140\n",
      "Epoch 16/1000\n",
      "25/25 [==============================] - 0s 1ms/step - loss: 0.2018\n",
      "Epoch 17/1000\n",
      "25/25 [==============================] - 0s 1ms/step - loss: 0.3677\n",
      "Epoch 18/1000\n",
      "25/25 [==============================] - 0s 1ms/step - loss: 0.4796\n",
      "Epoch 19/1000\n",
      "25/25 [==============================] - 0s 2ms/step - loss: 0.4286\n",
      "Epoch 20/1000\n",
      "25/25 [==============================] - 0s 2ms/step - loss: 0.5927\n",
      "Epoch 21/1000\n",
      "25/25 [==============================] - 0s 2ms/step - loss: 0.3621\n",
      "Epoch 22/1000\n",
      "25/25 [==============================] - 0s 2ms/step - loss: 0.3098\n",
      "Epoch 23/1000\n",
      "25/25 [==============================] - 0s 2ms/step - loss: 0.3304\n",
      "Epoch 24/1000\n",
      "25/25 [==============================] - 0s 2ms/step - loss: 0.2188\n",
      "Epoch 25/1000\n",
      "25/25 [==============================] - 0s 2ms/step - loss: 0.0904\n",
      "Epoch 26/1000\n",
      "25/25 [==============================] - 0s 2ms/step - loss: 0.5594\n",
      "Epoch 27/1000\n",
      "25/25 [==============================] - 0s 2ms/step - loss: 0.2862\n",
      "Epoch 28/1000\n",
      "25/25 [==============================] - 0s 2ms/step - loss: 0.6289\n",
      "Epoch 29/1000\n",
      "25/25 [==============================] - 0s 2ms/step - loss: 0.4535\n",
      "Epoch 30/1000\n",
      "25/25 [==============================] - 0s 2ms/step - loss: 0.6305\n",
      "Epoch 31/1000\n",
      "25/25 [==============================] - 0s 2ms/step - loss: 0.6340\n",
      "Epoch 32/1000\n",
      "25/25 [==============================] - 0s 2ms/step - loss: 0.4611\n",
      "Epoch 33/1000\n",
      "25/25 [==============================] - 0s 2ms/step - loss: 0.5340\n",
      "Epoch 34/1000\n",
      "25/25 [==============================] - 0s 2ms/step - loss: 0.2832\n",
      "Epoch 35/1000\n",
      "25/25 [==============================] - 0s 2ms/step - loss: 0.1867\n",
      "Epoch 36/1000\n",
      "25/25 [==============================] - 0s 2ms/step - loss: 0.1988\n",
      "Epoch 37/1000\n",
      "25/25 [==============================] - 0s 2ms/step - loss: 0.3391\n",
      "Epoch 38/1000\n",
      "25/25 [==============================] - 0s 2ms/step - loss: 0.3970\n",
      "Epoch 39/1000\n",
      "25/25 [==============================] - 0s 2ms/step - loss: 0.5717\n",
      "Epoch 40/1000\n",
      "25/25 [==============================] - 0s 2ms/step - loss: 0.4053\n",
      "Epoch 41/1000\n",
      "25/25 [==============================] - 0s 2ms/step - loss: 0.2936\n",
      "Epoch 42/1000\n",
      "25/25 [==============================] - 0s 2ms/step - loss: 0.6073\n",
      "Epoch 43/1000\n",
      "25/25 [==============================] - 0s 2ms/step - loss: 0.1901\n",
      "Epoch 44/1000\n",
      "25/25 [==============================] - 0s 1ms/step - loss: 0.6230\n",
      "Epoch 45/1000\n",
      "25/25 [==============================] - 0s 2ms/step - loss: 0.2080\n",
      "25/25 [==============================] - 0s 679us/step\n"
     ]
    }
   ],
   "source": [
    "prod_embeddings = _reduce_dims(product_embeddings)"
   ]
  },
  {
   "cell_type": "code",
   "execution_count": 62,
   "metadata": {},
   "outputs": [
    {
     "data": {
      "text/plain": [
       "(array([15403, 18855, 19427,  6401,  4368, 12331,  2368, 18077, 20544,\n",
       "         8789]),\n",
       " array([19, 19, 12, 12, 19, 14, 12, 11, 10, 12]))"
      ]
     },
     "execution_count": 62,
     "metadata": {},
     "output_type": "execute_result"
    }
   ],
   "source": [
    "distances = distance_matrix(hangouts, prod_embeddings, p=1)\n",
    "np.unravel_index(np.argsort(distances, axis=None)[:10], distances.shape)"
   ]
  },
  {
   "cell_type": "code",
   "execution_count": 63,
   "metadata": {},
   "outputs": [
    {
     "data": {
      "text/plain": [
       "('Where Have You Gone Alan Jackson',\n",
       " 'Beautiful Scars Merry Clayton\\n',\n",
       " 'In Another World Cheap Trick\\n',\n",
       " \"Fearless (Taylor's Version) [2 CD] Taylor Swift\\n\",\n",
       " 'My Savior Carrie Underwood\\n')"
      ]
     },
     "execution_count": 63,
     "metadata": {},
     "output_type": "execute_result"
    }
   ],
   "source": [
    "products[19], products[12], products[14], products[11], products[10]"
   ]
  },
  {
   "cell_type": "markdown",
   "metadata": {},
   "source": [
    "2/5"
   ]
  },
  {
   "cell_type": "code",
   "execution_count": 65,
   "metadata": {},
   "outputs": [
    {
     "data": {
      "text/plain": [
       "(array([ 8150, 13632, 18120, 11538, 13261, 15086, 19994, 22009, 13688,\n",
       "        25708]),\n",
       " array([43, 49, 49, 49, 49, 49, 49, 49, 49, 49]))"
      ]
     },
     "execution_count": 65,
     "metadata": {},
     "output_type": "execute_result"
    }
   ],
   "source": [
    "distances = distance_matrix(email, prod_embeddings, p=1)\n",
    "np.unravel_index(np.argsort(distances, axis=None)[:10], distances.shape)"
   ]
  },
  {
   "cell_type": "code",
   "execution_count": 66,
   "metadata": {},
   "outputs": [
    {
     "data": {
      "text/plain": [
       "('Hammermill Printer Paper  20 lb Copy Paper  11 x 17 - 1 Ream (500 Sheets) - 92 Bright  Made in the USA  HAMMERMILL’S BEST SELLING PRINTER PAPER – You will receive one ream of paper with 500 sheets of 20lb  92 bright  11\" x 17\" white copy paper. Ledger Size  99.99% JAM-FREE PRINTER PAPER - Everyone hates paper jams...You can trust Hammermill paper quality to keep your printer running smoothly. Scroll down to view the Product Description for details  COLORLOK TECHNOLOGY INCLUDED - Colors on Hammermill copy paper are 30% brighter; blacks are up to 60% bolder and inks dry 3 times faster for less smearing. Acid-free Hammermill paper ensures long-lasting archival quality  MADE IN USA - Hammermill copying and printing papers are 100% made in the USA  helping to support 2. 4 million sustainable forestry jobs in America  including family tree farmers. Hammermill is more than just paper  MAKE SURE IT’S ORIGINAL HAMMERMILL QUALITY - Look for “Ships from and sold by ” at the top of the page  under the product title  OTHER PAPER OPTIONS – Scroll down to compare Hammermill print and copy paper for every purpose including premium presentation-quality color copy paper  cover-weight paper stock  and glossy paper for photo printing\\n',\n",
       " 'ComfiLife Gel Enhanced Seat Cushion - Non-Slip Orthopedic Gel & Memory Foam Coccyx Cushion for Tailbone Pain - Office Chair Car Seat Cushion - Sciatica & Back Pain Relief (Black)  Best Gel Memory Foam Cushion On The Market - ComfiLife\\'s all-in-one features are unrivaled: Non-slip rubber bottom  built-in handle for easy transport and machine-washable zippered velour cover for easy cleaning. The ComfiLife Coccyx Cushion is the best gel memory foam seat cushion on the market made of premium quality durable memory foam with cool off gel layer on top for superior comfort  Supports Tailbone and Relieves Pressure - Ergonomically designed seat cushion provides maximum support and comfort while reducing pressure on the coccyx / tailbone and promotes healthy posture  Provides Lower Back Pain & Sciatica Relief  Great for Office Use  Driving & Traveling - Supports recovery from lower back problems  herniated discs  tailbone injuries  sciatica and other spinal issues. Great for office  home  travel  car seat or wheelchair use. Machine-washable zippered velour cover for easy cleaning and built-in handle for easy transport  Our Customers Love ComfiLife Cushion - \"I have already recommended this to all my office mates that sit all day  as well. I love it  and some advice...Lock it up after you use it  or I guarantee one of your sneaky cube mates will swipe it!\" \"This has saved my life as one with lower back pain due to pinched nerve roots\" \"I have herniated discs and sciatica for many years  this cushion allowed me to drive cross state with little to no pain\"  Lifetime Warranty - ComfiLife is trusted by millions of happy customers around the world. Your complete satisfaction is our top priority. If you’re not 100% satisfied  we offer a Lifetime Money Back or Replacement Guarantee with no questions asked. \\n')"
      ]
     },
     "execution_count": 66,
     "metadata": {},
     "output_type": "execute_result"
    }
   ],
   "source": [
    "products[43], products[49]"
   ]
  },
  {
   "cell_type": "markdown",
   "metadata": {},
   "source": [
    "1/2"
   ]
  },
  {
   "cell_type": "code",
   "execution_count": 67,
   "metadata": {},
   "outputs": [
    {
     "data": {
      "text/plain": [
       "(array([357, 385, 221, 221, 219, 262, 357, 357, 211, 254]),\n",
       " array([41, 37, 41, 35, 41, 41, 35, 34,  2, 34]))"
      ]
     },
     "execution_count": 67,
     "metadata": {},
     "output_type": "execute_result"
    }
   ],
   "source": [
    "distances = distance_matrix(yt_liked, prod_embeddings, p=1)\n",
    "np.unravel_index(np.argsort(distances, axis=None)[:10], distances.shape)"
   ]
  },
  {
   "cell_type": "code",
   "execution_count": 68,
   "metadata": {},
   "outputs": [
    {
     "data": {
      "text/plain": [
       "('Scotch Heavy Duty Shipping Packaging Tape  6 Rolls with Dispenser \\n',\n",
       " 'Twin Sheet Set - 3 Piece College Dorm Room Bed Sheets - Hotel Luxury Bed Sheets - Extra Soft Sheets - Deep Pockets - Easy Fit - Breathable & Cooling Sheets – Bed Sheets - Twin - Twin Mattress Sheets\\n',\n",
       " 'LiBa PEVA 8G Bathroom Small Shower Stall Curtain Liner \"36\"\" W x 72\"\" H Narrow Size  Clear  8G Heavy Duty Waterproof Shower Stall Curtain Liner\"\\n',\n",
       " 'Beckham Hotel Collection Bed Pillows for Sleeping  \"Queen Size  Set of 2 - Soft Allergy Friendly  Cooling  Luxury Gel Pillow for Back  Stomach or Side Sleepers\"\\n',\n",
       " 'Roku Express | HD Streaming Media Player with High Speed HDMI Cable and Simple Remote Streaming made easy: Roku express lets you stream free  live and premium TV over the internet right to your TV; it’s perfect for new users  secondary TVs and easy gifting but powerful enough for seasoned pros\\n')"
      ]
     },
     "execution_count": 68,
     "metadata": {},
     "output_type": "execute_result"
    }
   ],
   "source": [
    "products[41], products[37], products[35], products[34], products[2]"
   ]
  },
  {
   "cell_type": "markdown",
   "metadata": {},
   "source": [
    "2/5"
   ]
  },
  {
   "cell_type": "code",
   "execution_count": 69,
   "metadata": {},
   "outputs": [
    {
     "data": {
      "text/plain": [
       "(array([5202,  636,   44, 2747, 3699, 3863, 3736, 3769, 2569, 3363]),\n",
       " array([43, 42, 46,  7,  2, 37, 46,  5, 30, 44]))"
      ]
     },
     "execution_count": 69,
     "metadata": {},
     "output_type": "execute_result"
    }
   ],
   "source": [
    "distances = distance_matrix(yt_history, prod_embeddings, p=1)\n",
    "np.unravel_index(np.argsort(distances, axis=None)[:10], distances.shape)"
   ]
  },
  {
   "cell_type": "code",
   "execution_count": 70,
   "metadata": {},
   "outputs": [
    {
     "data": {
      "text/plain": [
       "('HP 63 | Ink Cartridge | Black | F6U62AN   6 Rolls with Dispenser Make sure this fits by entering your model number.  HP ENVY 4511  4512  4513  4520  4522  4523  4524. HP Officejet 3830  3831  3833  4650  4652  4654  4655  5220  5222  5230  5232  5255  5260  5264. HP 63 ink cartridges work with: HP Deskjet 1112  2130  2132  3630  3631  3632  3633  3634  3636  3637  Up to 2x more prints with Original HP ink vs refill cartridges.  Cartridge yield (approx.): 190 pages  Original HP ink cartridges: genuine ink for your HP printer.\\n',\n",
       " 'Amazon Basics 6-Sheet Cross-Cut Paper and Credit Card Home Office Shredder  6 sheet crosscut paper/credit card shredder  Auto Start and overheat protection  Thermal Protection to prevent overheating  manual reverse to clear paper jams  shreds credit cards; small paper clips; staples  Important Note: Do not spray or keep any aerosol products in or around the shredder and do not shred items like metallic credit cards\\n',\n",
       " 'Roku Streaming Stick+ | HD/4K/HDR Streaming Device with Long-range Wireless and Voice Remote with TV Controls Wireless that goes the distance: Basement rec room? Backyard movie night? Bring them on. The long-range wireless receiver gives you extended range and a stronger signal for smooth streaming even in rooms farther from your router\\n',\n",
       " 'Wyze Cam v3 1080p HD Indoor/Outdoor Video Camera with Color Night Vision  2-Way Audio  Works with Alexa & The Google Assistant  and IFTTT Color Night Vision: Record night time video in full  vivid color in environments up to 25x darker than traditional cameras.\\n',\n",
       " 'Bedsure Satin Pillowcase for Hair and Skin \"2-Pack - Standard Size (20x26 inches) Pillow Cases - Satin Pillow Covers with Envelope Closure  Dark Grey\"\\n',\n",
       " 'Amazon Basics Narrow Ruled 5 x 8-Inch Writing Pad - Canary (50 Sheet Paper Pads  12 pack)  12-pack of 50-page white writing tablets  Narrow ruled paper (1/4-inch spacing between lines) for people with smaller handwriting or when you want more on a single page  16-pound paper for everyday use  Perforated top ensures easy removal of sheets  Measures 5 by 8 inches\\n')"
      ]
     },
     "execution_count": 70,
     "metadata": {},
     "output_type": "execute_result"
    }
   ],
   "source": [
    "products[42], products[46], products[7], products[5], products[30], products[44]"
   ]
  },
  {
   "cell_type": "markdown",
   "metadata": {},
   "source": [
    "1/6"
   ]
  },
  {
   "cell_type": "markdown",
   "metadata": {},
   "source": [
    "precision = 6 / 18 = 0.33"
   ]
  },
  {
   "cell_type": "code",
   "execution_count": 73,
   "metadata": {},
   "outputs": [
    {
     "name": "stdout",
     "output_type": "stream",
     "text": [
      "[(0,\n",
      "  'Fire TV Stick 4K streaming device with Alexa Voice Remote | Dolby Vision | '\n",
      "  '2018 release Watch favorites from Netflix  YouTube  Prime Video  Disney+  '\n",
      "  'Apple TV+  HBO Max  and more. Stream for free with Pluto TV  IMDb TV  and '\n",
      "  'more.\\n'),\n",
      " (1,\n",
      "  'Echo Dot (3rd Gen) - Smart speaker with Alexa - Charcoal Meet Echo Dot - '\n",
      "  'Our most popular smart speaker with a fabric design. It is our most compact '\n",
      "  'smart speaker that fits perfectly into small spaces.\\n'),\n",
      " (2,\n",
      "  'Roku Express | HD Streaming Media Player with High Speed HDMI Cable and '\n",
      "  'Simple Remote Streaming made easy: Roku express lets you stream free  live '\n",
      "  'and premium TV over the internet right to your TV; it’s perfect for new '\n",
      "  'users  secondary TVs and easy gifting but powerful enough for seasoned '\n",
      "  'pros\\n'),\n",
      " (3,\n",
      "  'Amazon Smart Plug  works with Alexa – A Certified for Humans Device Amazon '\n",
      "  'Smart Plug works with Alexa to add voice control to any outlet.\\n'),\n",
      " (4,\n",
      "  'All-new Echo Buds (2nd Gen) | Wireless earbuds with active noise '\n",
      "  'cancellation and Alexa | Black Dynamic audio and active noise cancellation '\n",
      "  '(ANC) - Premium speakers deliver crisp  balanced sound. Sealed in-ear '\n",
      "  'design and ANC limit background noise.\\n'),\n",
      " (5,\n",
      "  'Wyze Cam v3 1080p HD Indoor/Outdoor Video Camera with Color Night Vision  '\n",
      "  '2-Way Audio  Works with Alexa & The Google Assistant  and IFTTT Color Night '\n",
      "  'Vision: Record night time video in full  vivid color in environments up to '\n",
      "  '25x darker than traditional cameras.\\n'),\n",
      " (6,\n",
      "  'All-new Echo Dot (4th Gen  2020 release) | Smart speaker with Alexa | '\n",
      "  'Charcoal\" \"Meet the all-new Echo Dot - Our most popular smart speaker with '\n",
      "  'Alexa. The sleek  compact design delivers crisp vocals and balanced bass '\n",
      "  'for full sound.\\n'),\n",
      " (7,\n",
      "  'Roku Streaming Stick+ | HD/4K/HDR Streaming Device with Long-range Wireless '\n",
      "  'and Voice Remote with TV Controls Wireless that goes the distance: Basement '\n",
      "  'rec room? Backyard movie night? Bring them on. The long-range wireless '\n",
      "  'receiver gives you extended range and a stronger signal for smooth '\n",
      "  'streaming even in rooms farther from your router\\n'),\n",
      " (8,\n",
      "  'Blink Mini – Compact indoor plug-in smart security camera  1080 HD video  '\n",
      "  'night vision  motion detection  two-way audio  Works with Alexa – 1 camera '\n",
      "  '1080P HD indoor  plug-in security camera with motion detection and two way '\n",
      "  'audio that lets you monitor the inside of your home day and night.\\n'),\n",
      " (9,\n",
      "  'Fujifilm Instax Mini Instant Film Twin Pack (White) Designed for use with '\n",
      "  'Instax Mini line of cameras; Works well in low light.Develops instantly: '\n",
      "  'Press the shutter  capture the moment  and watch the photo slide out and '\n",
      "  'the image develop in front of your eyes; Hi speed  ISO 800 with superb '\n",
      "  'grain quality  Instax Mini Film ensure vibrant color and natural skin '\n",
      "  'tones\\n'),\n",
      " (10, 'My Savior Carrie Underwood\\n'),\n",
      " (11, \"Fearless (Taylor's Version) [2 CD] Taylor Swift\\n\"),\n",
      " (12, 'Beautiful Scars Merry Clayton\\n'),\n",
      " (13, \"They're Calling Me Home Rhiannon Giddens\\n\"),\n",
      " (14, 'In Another World Cheap Trick\\n'),\n",
      " (15, 'WE ARE Jon Batiste\\n'),\n",
      " (16, 'evermore [Green 2 LP]  Taylor Swift Explicit Lyrics Double vinyl\\n'),\n",
      " (17, 'Legend [Vinyl] Bob Marley LP\\n'),\n",
      " (18,\n",
      "  'Dangerous: The Double Album [2 CD] Morgan Wallen Explicit Lyrics 2 CD\\n'),\n",
      " (19, 'Where Have You Gone Alan Jackson'),\n",
      " (20,\n",
      "  'On the House: A Washington Memoir by John Boehner  \"Language: English\\n'),\n",
      " (21, 'Item Weight : 1.1 pounds\\n'),\n",
      " (22, 'Dimensions : 6.39 x 1.02 x 9.6 inches\"\\n'),\n",
      " (23,\n",
      "  'Fast Burn!: The Power of Negative Energy Balance by lan K.Smith M.D '\n",
      "  '\"Language: English\\n'),\n",
      " (24, 'Item Weight : 1.2 pounds\\n'),\n",
      " (25, 'Dimensions : 6.38 x 1.25 x 9.59 inches\"\\n'),\n",
      " (26,\n",
      "  \"The Pepper Thai Cookbook: Family Recipes from Everyone's Favorite Thai Mom \"\n",
      "  'by Pepper Teigen \"Language: English\\n'),\n",
      " (27, 'Item Weight : 2.03 pounds\\n'),\n",
      " (28, 'Dimensions : 7.75 x 0.88 x 10 inches\"\\n'),\n",
      " (29,\n",
      "  'he Hero Code: Lessons Learned from Lives Well Lived by Admiral William H. '\n",
      "  'McRaven \"Language: English\\n'),\n",
      " (30,\n",
      "  'Bedsure Satin Pillowcase for Hair and Skin \"2-Pack - Standard Size (20x26 '\n",
      "  'inches) Pillow Cases - Satin Pillow Covers with Envelope Closure  Dark '\n",
      "  'Grey\"\\n'),\n",
      " (31,\n",
      "  'Mellanni Bed Sheet Set \"Brushed Microfiber 1800 Bedding - Wrinkle  Fade  '\n",
      "  'Stain Resistant - 3 Piece (for Extra Deep Mattresses  Twin  Baby Blue)\"\\n'),\n",
      " (32,\n",
      "  'SafeRest Twin Size Premium Hypoallergenic Waterproof Mattress Protector '\n",
      "  '\"Premium Cotton Terry. Protects Agains Fluids  Urine  Perspiration and '\n",
      "  'Allergens (10-Year Warranty) Hypoallergenic Cotton Terry Surface With '\n",
      "  'Membrane Back Coating (Waterproof  Noiseless and Breathable)\"\\n'),\n",
      " (33,\n",
      "  '\"Amazon Basics Microfiber Sheet Set  Twin  Beige\" \"100% Polyester '\n",
      "  'Microfiber. Imported. Twin sheet set includes (1) 66 x 96 inch flat sheet  '\n",
      "  '(1) 38 x 74 x 14 inch fitted sheet  and (1) 20 x 30 inch pillowcase. '\n",
      "  'All-around elastic on 14\"\" fitted sheet allows for snug  secure fit of most '\n",
      "  'mattress sizes up to a 16\"\" mattress depth\"\\n'),\n",
      " (34,\n",
      "  'Beckham Hotel Collection Bed Pillows for Sleeping  \"Queen Size  Set of 2 - '\n",
      "  'Soft Allergy Friendly  Cooling  Luxury Gel Pillow for Back  Stomach or Side '\n",
      "  'Sleepers\"\\n'),\n",
      " (35,\n",
      "  'LiBa PEVA 8G Bathroom Small Shower Stall Curtain Liner \"36\"\" W x 72\"\" H '\n",
      "  'Narrow Size  Clear  8G Heavy Duty Waterproof Shower Stall Curtain Liner\"\\n'),\n",
      " (36,\n",
      "  '\"Utopia Bedding Throw Pillows Insert (Pack of 2  White)\" 12 x 12 Inches Bed '\n",
      "  'and Couch Pillows - Indoor Decorative Pillows\\n'),\n",
      " (37,\n",
      "  'Twin Sheet Set - 3 Piece College Dorm Room Bed Sheets - Hotel Luxury Bed '\n",
      "  'Sheets - Extra Soft Sheets - Deep Pockets - Easy Fit - Breathable & Cooling '\n",
      "  'Sheets – Bed Sheets - Twin - Twin Mattress Sheets\\n'),\n",
      " (38,\n",
      "  'Flexzilla HFZG510YW Garden Lead-In Hose \"EXTREMELY FLEXIBLE – Extreme '\n",
      "  'all-weather flexibility makes it easy to maneuver around trees  bushes or '\n",
      "  'other obstacles  EXTRMELY DURABLE – Durable and abrasion-resistant outer '\n",
      "  'cover and crush resistant anodized aircraft aluminum fittings  WON’T KINK '\n",
      "  'UNDER PRESSURE – Flexible hybrid polymer material allows the hose to lay '\n",
      "  'flat with no memory  LIGHTWEIGHT – Lighter than traditional garden hoses '\n",
      "  'making Flexzilla easier to carry  life and maneuver around the yard\"\\n'),\n",
      " (39,\n",
      "  '\"GreaterGoods Digital Food Kitchen Scale  Multifunction Scale Measures in '\n",
      "  'Grams and Ounces (Ash Grey)\" \"A Premium Choice: Between the design and '\n",
      "  'quality  this kitchen scale is going to last and function at an impeccable '\n",
      "  'level. Your cooking just got ten times easier!  Fresh Features: All of the '\n",
      "  'qualities you need and expect in a kitchen scale: readings down to the '\n",
      "  'gram  an eleven pound capacity  and easy to read display. What more could '\n",
      "  'you want?\"'),\n",
      " (40,\n",
      "  'Amazon Basics Multipurpose Copy Printer Paper - White  8.5 x 11 Inches  1 '\n",
      "  'Ream (500 Sheets)  1 ream of 8.5 x -11 inch multipurpose copy paper (500 '\n",
      "  'sheets total) Works with laser/inkjet printers  copiers and fax machines '\n",
      "  'High-quality 20-pound weight for economical printing and resistance to '\n",
      "  'paper jams Bright white for better contrast; 92 GE brightness (104 Euro) '\n",
      "  'Acid-free paper\\n'),\n",
      " (41, 'Scotch Heavy Duty Shipping Packaging Tape  6 Rolls with Dispenser \\n'),\n",
      " (42,\n",
      "  'HP 63 | Ink Cartridge | Black | F6U62AN   6 Rolls with Dispenser Make sure '\n",
      "  'this fits by entering your model number.  HP ENVY 4511  4512  4513  4520  '\n",
      "  '4522  4523  4524. HP Officejet 3830  3831  3833  4650  4652  4654  4655  '\n",
      "  '5220  5222  5230  5232  5255  5260  5264. HP 63 ink cartridges work with: '\n",
      "  'HP Deskjet 1112  2130  2132  3630  3631  3632  3633  3634  3636  3637  Up '\n",
      "  'to 2x more prints with Original HP ink vs refill cartridges.  Cartridge '\n",
      "  'yield (approx.): 190 pages  Original HP ink cartridges: genuine ink for '\n",
      "  'your HP printer.\\n'),\n",
      " (43,\n",
      "  'Hammermill Printer Paper  20 lb Copy Paper  11 x 17 - 1 Ream (500 Sheets) - '\n",
      "  '92 Bright  Made in the USA  HAMMERMILL’S BEST SELLING PRINTER PAPER – You '\n",
      "  'will receive one ream of paper with 500 sheets of 20lb  92 bright  11\" x '\n",
      "  '17\" white copy paper. Ledger Size  99.99% JAM-FREE PRINTER PAPER - Everyone '\n",
      "  'hates paper jams...You can trust Hammermill paper quality to keep your '\n",
      "  'printer running smoothly. Scroll down to view the Product Description for '\n",
      "  'details  COLORLOK TECHNOLOGY INCLUDED - Colors on Hammermill copy paper are '\n",
      "  '30% brighter; blacks are up to 60% bolder and inks dry 3 times faster for '\n",
      "  'less smearing. Acid-free Hammermill paper ensures long-lasting archival '\n",
      "  'quality  MADE IN USA - Hammermill copying and printing papers are 100% made '\n",
      "  'in the USA  helping to support 2. 4 million sustainable forestry jobs in '\n",
      "  'America  including family tree farmers. Hammermill is more than just paper  '\n",
      "  'MAKE SURE IT’S ORIGINAL HAMMERMILL QUALITY - Look for “Ships from and sold '\n",
      "  'by ” at the top of the page  under the product title  OTHER PAPER OPTIONS – '\n",
      "  'Scroll down to compare Hammermill print and copy paper for every purpose '\n",
      "  'including premium presentation-quality color copy paper  cover-weight paper '\n",
      "  'stock  and glossy paper for photo printing\\n'),\n",
      " (44,\n",
      "  'Amazon Basics Narrow Ruled 5 x 8-Inch Writing Pad - Canary (50 Sheet Paper '\n",
      "  'Pads  12 pack)  12-pack of 50-page white writing tablets  Narrow ruled '\n",
      "  'paper (1/4-inch spacing between lines) for people with smaller handwriting '\n",
      "  'or when you want more on a single page  16-pound paper for everyday use  '\n",
      "  'Perforated top ensures easy removal of sheets  Measures 5 by 8 inches\\n'),\n",
      " (45,\n",
      "  'HP 65 | Ink Cartridge | Works with HP Deskjet 2600 Series  3700 Series  HP '\n",
      "  'ENVY 5000 Series  HP AMP 100  120  125  130 | Black | N9K02AN  Make sure '\n",
      "  'this fits by entering your model number.  HP 65 ink cartridges work with: '\n",
      "  'HP DeskJet 2622  2625  2635  2636  2652  2655  3720  3722  3752  3755  '\n",
      "  '3758  5025  5055.  HP ENVY 5010  5012  5020  5052  5030  5032  5034  5055. '\n",
      "  'HP AMP 100  105  120  125  130.  Up to 2x more prints with Original HP ink '\n",
      "  'vs refill cartridges.  HP 65 ink cartridge yield (approx.): 120 pages  '\n",
      "  \"Original HP ink cartridges: Genuine ink for your HP printer.  What's in the \"\n",
      "  'box: 1 New Original HP 65 ink cartridge (N9K02AN)  Color: Black  Choose an '\n",
      "  'ink replenishment service - Let your printer track usage and have ink '\n",
      "  'delivered before you run out. Either reorder HP Genuine ink cartridges only '\n",
      "  'when you need them through Amazon Dash Replenishment  or save up to 50% by '\n",
      "  'paying for pages printed through HP Instant Ink.\\n'),\n",
      " (46,\n",
      "  'Amazon Basics 6-Sheet Cross-Cut Paper and Credit Card Home Office Shredder  '\n",
      "  '6 sheet crosscut paper/credit card shredder  Auto Start and overheat '\n",
      "  'protection  Thermal Protection to prevent overheating  manual reverse to '\n",
      "  'clear paper jams  shreds credit cards; small paper clips; staples  '\n",
      "  'Important Note: Do not spray or keep any aerosol products in or around the '\n",
      "  'shredder and do not shred items like metallic credit cards\\n'),\n",
      " (47,\n",
      "  'HP 63 | Ink Cartridge | Works with HP Deskjet 1112  2100 Series  3600 '\n",
      "  'Series  HP ENVY 4500 Series  HP OfficeJet 3800 Series  4600 Series  5200 '\n",
      "  'Series | Tri-color | F6U61AN  Make sure this fits by entering your model '\n",
      "  'number.  HP 63 ink cartridges work with: HP Deskjet 1112  2130  2132  3630  '\n",
      "  '3632  3633  3634  3636  3637.  HP ENVY 4512  4513  4520  4523  4524. HP '\n",
      "  'Officejet 3830  3831  3833  4650  4652  4654  4655.  Up to 2x more prints '\n",
      "  'with Original HP ink vs refill cartridges.  Cartridge yield (approx.): 165 '\n",
      "  \"pages  Original HP ink cartridges: Genuine ink for your HP printer.  What's \"\n",
      "  'in the box: 1 New Original HP 63 ink cartridge (F6U61AN)  Color: Tri-color  '\n",
      "  'Choose an ink replenishment service - Let your printer track usage and have '\n",
      "  'ink delivered before you run out. Either reorder HP Genuine ink cartridges '\n",
      "  'only when you need them through Amazon Dash Replenishment  or save up to '\n",
      "  '50% by paying for pages printed through HP Instant Ink. Packaging of the '\n",
      "  'product may slightly vary.\\n'),\n",
      " (48,\n",
      "  '2 Pack - Clear Vaccination Card Protector 4×3 in for CDC Immunization '\n",
      "  'Badge  Waterproof 4x3 Horizontal Badge I’D Name Tag Vinyl Plastic Sleeve '\n",
      "  'Pouch w 3 Lanyard Slots for Events & Travel  SLIGHTLY LARGER TO FIT '\n",
      "  'LAMINATED 4”X 3” Cards - (4 ¼ X 3.07 Max Insert) *** PLEASE NOTE *** '\n",
      "  'VACCINATION CARD SIZES CAN VARY - PLEASE CHECK MEASUREMENTS BEFORE '\n",
      "  'PURCHASING. Thick  Sturdy Plastic Sleeve with Curved Edges Featuring '\n",
      "  'Lightly Textured Back and Clear Front Window to Keep Your Health Document '\n",
      "  'or Valuable Collector Card Damage Free - Outer Dimensions (4.56 x 3.97 '\n",
      "  'inch) Inner Dimensions (4.33 x 3.14 inch).  DISPLAY VACCINATION CARD AT '\n",
      "  'AIRLINES FOR QUICK ENTRY - Accessible for Barcodes & QR Codes to be Read '\n",
      "  'with Scanner Reader Through Visible Clear Protector Window - Great for '\n",
      "  'Teachers  Students  Nurses  Office Employees  Doctors  Government Official  '\n",
      "  'Police  Volunteer and More.  ATTACHES TO ANY LANYARD OR BADGE REEL - '\n",
      "  'Dual-use Hanging Slot/holes Design  The Middle Slot For Lanyard  Keychain '\n",
      "  'Or Retractable Carabiner Reel Clip  The Both Side Holes For The '\n",
      "  'Cord/strap/string/thread. Strong And Flexible Plastic Material. The Badge '\n",
      "  'Holders Will Not Leave Trace  Folded And Refolded Many Time. The Hanging '\n",
      "  'Slot/holes Will Not Break  Distorted Many Time.  WATERPROOF HEAVY DUTY '\n",
      "  'REUSABLE BADGE HOLDERS - Multi Purpose Use and Reuse for a Health Record '\n",
      "  'Keeper or for Special or Promotional Events  Conventions  Concerts  '\n",
      "  'Festivals  Retreats  Family & School Reunions  Store Tags  Fundraisers  '\n",
      "  'Field Trips  PTA  Transit Bus  VIP Pass and More.\\n'),\n",
      " (49,\n",
      "  'ComfiLife Gel Enhanced Seat Cushion - Non-Slip Orthopedic Gel & Memory Foam '\n",
      "  'Coccyx Cushion for Tailbone Pain - Office Chair Car Seat Cushion - Sciatica '\n",
      "  '& Back Pain Relief (Black)  Best Gel Memory Foam Cushion On The Market - '\n",
      "  \"ComfiLife's all-in-one features are unrivaled: Non-slip rubber bottom  \"\n",
      "  'built-in handle for easy transport and machine-washable zippered velour '\n",
      "  'cover for easy cleaning. The ComfiLife Coccyx Cushion is the best gel '\n",
      "  'memory foam seat cushion on the market made of premium quality durable '\n",
      "  'memory foam with cool off gel layer on top for superior comfort  Supports '\n",
      "  'Tailbone and Relieves Pressure - Ergonomically designed seat cushion '\n",
      "  'provides maximum support and comfort while reducing pressure on the coccyx '\n",
      "  '/ tailbone and promotes healthy posture  Provides Lower Back Pain & '\n",
      "  'Sciatica Relief  Great for Office Use  Driving & Traveling - Supports '\n",
      "  'recovery from lower back problems  herniated discs  tailbone injuries  '\n",
      "  'sciatica and other spinal issues. Great for office  home  travel  car seat '\n",
      "  'or wheelchair use. Machine-washable zippered velour cover for easy cleaning '\n",
      "  'and built-in handle for easy transport  Our Customers Love ComfiLife '\n",
      "  'Cushion - \"I have already recommended this to all my office mates that sit '\n",
      "  'all day  as well. I love it  and some advice...Lock it up after you use it  '\n",
      "  'or I guarantee one of your sneaky cube mates will swipe it!\" \"This has '\n",
      "  'saved my life as one with lower back pain due to pinched nerve roots\" \"I '\n",
      "  'have herniated discs and sciatica for many years  this cushion allowed me '\n",
      "  'to drive cross state with little to no pain\"  Lifetime Warranty - ComfiLife '\n",
      "  'is trusted by millions of happy customers around the world. Your complete '\n",
      "  'satisfaction is our top priority. If you’re not 100% satisfied  we offer a '\n",
      "  'Lifetime Money Back or Replacement Guarantee with no questions asked. \\n')]\n"
     ]
    }
   ],
   "source": [
    "from pprint import pprint\n",
    "pprint(list(enumerate(products)))"
   ]
  },
  {
   "cell_type": "code",
   "execution_count": 3,
   "metadata": {},
   "outputs": [],
   "source": [
    "actual = [0, 1, 2, 6, 7, 9, 10, 11, 16, 40, 41, 43]"
   ]
  },
  {
   "cell_type": "code",
   "execution_count": 4,
   "metadata": {},
   "outputs": [],
   "source": [
    "preds = np.unique([19, 12, 14, 10, 11, 12, 49, 43, 41, 37, 35, 34, 2, 42, 46, 2, 7, 37, 5, 30, 44])"
   ]
  },
  {
   "cell_type": "code",
   "execution_count": 5,
   "metadata": {},
   "outputs": [],
   "source": [
    "tp = 0\n",
    "fp = 0\n",
    "fn = 0\n",
    "tn = 0\n",
    "for p in preds:\n",
    "    found = False\n",
    "    for a in actual:\n",
    "        if a == p:\n",
    "            tp += 1\n",
    "            found = True\n",
    "    \n",
    "    if not found:\n",
    "        fp += 1\n",
    "\n",
    "for a in actual:\n",
    "    found = False\n",
    "    for p in preds:\n",
    "        if a == p:\n",
    "            found = True\n",
    "    \n",
    "    if not found:\n",
    "        fn += 1\n",
    "\n",
    "for i in range(50):\n",
    "    if i not in actual and i not in preds:\n",
    "        tn += 1"
   ]
  },
  {
   "cell_type": "code",
   "execution_count": 6,
   "metadata": {},
   "outputs": [],
   "source": [
    "precision = tp * 1. / (tp + fp)\n",
    "recall = tp * 1. / (tp + fn)\n",
    "acc = (tp + tn) / (tp + tn + fp + fn)"
   ]
  },
  {
   "cell_type": "code",
   "execution_count": 7,
   "metadata": {},
   "outputs": [
    {
     "data": {
      "text/plain": [
       "(0.3333333333333333, 0.5, 0.64)"
      ]
     },
     "execution_count": 7,
     "metadata": {},
     "output_type": "execute_result"
    }
   ],
   "source": [
    "precision, recall, acc"
   ]
  },
  {
   "cell_type": "code",
   "execution_count": 8,
   "metadata": {},
   "outputs": [],
   "source": [
    "f1 = 2 * precision * recall / (precision + recall)"
   ]
  },
  {
   "cell_type": "code",
   "execution_count": 9,
   "metadata": {},
   "outputs": [
    {
     "data": {
      "text/plain": [
       "0.4"
      ]
     },
     "execution_count": 9,
     "metadata": {},
     "output_type": "execute_result"
    }
   ],
   "source": [
    "f1"
   ]
  },
  {
   "cell_type": "code",
   "execution_count": null,
   "metadata": {},
   "outputs": [],
   "source": []
  }
 ],
 "metadata": {
  "kernelspec": {
   "display_name": "Python 3",
   "language": "python",
   "name": "python3"
  },
  "language_info": {
   "codemirror_mode": {
    "name": "ipython",
    "version": 3
   },
   "file_extension": ".py",
   "mimetype": "text/x-python",
   "name": "python",
   "nbconvert_exporter": "python",
   "pygments_lexer": "ipython3",
   "version": "3.8.6"
  }
 },
 "nbformat": 4,
 "nbformat_minor": 4
}
